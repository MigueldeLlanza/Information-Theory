{
 "cells": [
  {
   "cell_type": "code",
   "execution_count": 1,
   "metadata": {},
   "outputs": [],
   "source": [
    "import numpy as np\n",
    "import matplotlib.pyplot as plt\n",
    "import math\n",
    "from scipy.special import comb\n",
    "from itertools import chain"
   ]
  },
  {
   "cell_type": "markdown",
   "metadata": {},
   "source": [
    "# Ex. 4.15"
   ]
  },
  {
   "cell_type": "code",
   "execution_count": 5,
   "metadata": {},
   "outputs": [],
   "source": [
    "def log(x):\n",
    "    if (x == 0):\n",
    "        return 1\n",
    "    else:\n",
    "        return (math.log(x, 2))"
   ]
  },
  {
   "cell_type": "code",
   "execution_count": 6,
   "metadata": {},
   "outputs": [],
   "source": [
    "def combinatorial(p, N, r):\n",
    "    if (N > 10 and N < N - 10):\n",
    "        \n",
    "        return int(2**(N * (p * log(p) + (1 - p) * log(1 - p))))\n",
    "    \n",
    "    else: \n",
    "        \n",
    "        return int(comb(N, r))"
   ]
  },
  {
   "cell_type": "code",
   "execution_count": 7,
   "metadata": {},
   "outputs": [],
   "source": [
    "def prob_x(p, N, r):\n",
    "    return (p**r) * ((1 - p)**(N - r))"
   ]
  },
  {
   "cell_type": "code",
   "execution_count": 8,
   "metadata": {},
   "outputs": [],
   "source": [
    "def prob_r(p, N, r):\n",
    "    values = []\n",
    "    if (r == 0 or r == N):\n",
    "        \n",
    "        return [prob_x(p, N, r)]  \n",
    "    \n",
    "    else:\n",
    "        values.append(prob_x(p, N, r))\n",
    "        \n",
    "        return np.array(values * combinatorial(p, N, r)).tolist()"
   ]
  },
  {
   "cell_type": "markdown",
   "metadata": {},
   "source": [
    "Bits for N = 1, N = 2, N = 3, and N = 10"
   ]
  },
  {
   "cell_type": "code",
   "execution_count": 22,
   "metadata": {},
   "outputs": [],
   "source": [
    "def delta_bits(N, p):\n",
    "    probs_N = [prob_r(p, N, r) for r in range (0, N + 1)]\n",
    "    probs_N = list(chain(*probs_N))\n",
    "    bits = []\n",
    "    delta = []\n",
    "    pr_sort = sorted(probs_N)\n",
    "\n",
    "    delta.append(0)\n",
    "    bits.append(log(len(pr_sort))/N)\n",
    "\n",
    "    while (len(pr_sort) > 2):\n",
    "        delta.append(pr_sort[0])    \n",
    "        pr_sort[1] = pr_sort[0] + pr_sort[1]\n",
    "        pr_sort.remove(pr_sort[0])\n",
    "        bits.append(log(len(pr_sort))/N)\n",
    "\n",
    "    for y in np.arange(pr_sort[0], 1, 0.01):\n",
    "                delta.append(y)\n",
    "                bits.append(0)\n",
    "                \n",
    "    return delta, bits"
   ]
  },
  {
   "cell_type": "code",
   "execution_count": 27,
   "metadata": {},
   "outputs": [
    {
     "data": {
      "image/png": "[encoded data removed]",
      "text/plain": [
       "<Figure size 432x288 with 1 Axes>"
      ]
     },
     "metadata": {
      "needs_background": "light"
     },
     "output_type": "display_data"
    }
   ],
   "source": [
    "p = 0.1\n",
    "N_sequences = [1, 2, 3, 10]\n",
    "\n",
    "for N in N_sequences:\n",
    "    delta = delta_bits(N, p)[0]\n",
    "    bits = delta_bits(N, p)[1]\n",
    "    plt.plot(delta, bits)\n",
    "    plt.legend([\"N = 1\", \"N = 2\", \"N = 3\", \"N = 10\"])"
   ]
  }
 ],
 "metadata": {
  "kernelspec": {
   "display_name": "Python 3",
   "language": "python",
   "name": "python3"
  },
  "language_info": {
   "codemirror_mode": {
    "name": "ipython",
    "version": 3
   },
   "file_extension": ".py",
   "mimetype": "text/x-python",
   "name": "python",
   "nbconvert_exporter": "python",
   "pygments_lexer": "ipython3",
   "version": "3.7.3"
  }
 },
 "nbformat": 4,
 "nbformat_minor": 2
}
