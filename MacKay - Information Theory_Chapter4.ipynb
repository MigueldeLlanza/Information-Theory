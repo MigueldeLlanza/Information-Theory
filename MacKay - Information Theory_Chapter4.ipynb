{
 "cells": [
  {
   "cell_type": "code",
   "execution_count": 125,
   "metadata": {},
   "outputs": [],
   "source": [
    "import numpy as np\n",
    "from scipy.stats import binom\n",
    "import matplotlib.pyplot as plt\n",
    "import math\n",
    "import collections\n",
    "from scipy.special import comb\n",
    "from itertools import chain"
   ]
  },
  {
   "cell_type": "markdown",
   "metadata": {},
   "source": [
    "# Ex. 4.15"
   ]
  },
  {
   "cell_type": "code",
   "execution_count": 114,
   "metadata": {},
   "outputs": [],
   "source": [
    "def log(x):\n",
    "    if (x == 0):\n",
    "        return 1\n",
    "    else:\n",
    "        return math.log(x, 2)"
   ]
  },
  {
   "cell_type": "code",
   "execution_count": 115,
   "metadata": {},
   "outputs": [],
   "source": [
    "def prob_x(p, N, r):\n",
    "    return p**r*(1-p)**(N - r)"
   ]
  },
  {
   "cell_type": "code",
   "execution_count": 116,
   "metadata": {},
   "outputs": [],
   "source": [
    "def prob_r(p, N, r):\n",
    "    return [prob_x(p, N, r) for i in range(0, int(comb(N, r)))]"
   ]
  },
  {
   "cell_type": "code",
   "execution_count": 121,
   "metadata": {},
   "outputs": [],
   "source": [
    "def probs(N):\n",
    "    probs_N = [prob_r(0.1, N, r) for r in range (0, N + 1)]\n",
    "    probs_N = list(chain(*probs_N))\n",
    "    bits = []\n",
    "    pr_sort = sorted(probs_N)\n",
    "    for x in np.arange(0, 1, 0.0001):\n",
    "        if (x > max(pr_sort)):\n",
    "            bits.append(log(len(pr_sort))/N)\n",
    "        elif (x < pr_sort[0]):\n",
    "            bits.append(log(len(pr_sort))/N)\n",
    "        else:\n",
    "            pr_sort[1] = pr_sort[0] + pr_sort[1]\n",
    "            pr_sort.remove(pr_sort[0])\n",
    "            bits.append(log(len(pr_sort))/N)\n",
    "    return bits"
   ]
  },
  {
   "cell_type": "markdown",
   "metadata": {},
   "source": [
    "Plot for N=1, N=2 and N=3"
   ]
  },
  {
   "cell_type": "code",
   "execution_count": 129,
   "metadata": {},
   "outputs": [
    {
     "data": {
      "text/plain": [
       "<matplotlib.legend.Legend at 0xa5df048>"
      ]
     },
     "execution_count": 129,
     "metadata": {},
     "output_type": "execute_result"
    },
    {
     "data": {
      "image/png": "[encoded data removed]",
      "text/plain": [
       "<Figure size 432x288 with 1 Axes>"
      ]
     },
     "metadata": {
      "needs_background": "light"
     },
     "output_type": "display_data"
    }
   ],
   "source": [
    "plt.plot(np.arange(0, 1, 0.0001), probs(1))\n",
    "plt.plot(np.arange(0, 1, 0.0001), probs(2))\n",
    "plt.plot(np.arange(0, 1, 0.0001),  probs(3))\n",
    "plt.legend([\"N=1\", \"N=2\", \"N=3\"])"
   ]
  }
 ],
 "metadata": {
  "kernelspec": {
   "display_name": "Python 3",
   "language": "python",
   "name": "python3"
  },
  "language_info": {
   "codemirror_mode": {
    "name": "ipython",
    "version": 3
   },
   "file_extension": ".py",
   "mimetype": "text/x-python",
   "name": "python",
   "nbconvert_exporter": "python",
   "pygments_lexer": "ipython3",
   "version": "3.7.3"
  }
 },
 "nbformat": 4,
 "nbformat_minor": 2
}
