{
 "cells": [
  {
   "cell_type": "code",
   "execution_count": 1,
   "metadata": {},
   "outputs": [],
   "source": [
    "import numpy as np\n",
    "from scipy.stats import binom\n",
    "import matplotlib.pyplot as plt\n",
    "import math"
   ]
  },
  {
   "cell_type": "markdown",
   "metadata": {},
   "source": [
    "# Chapter 2\n",
    "* [Exercise 2.4](#exercise2.4)<br>\n",
    "* [Exercise 2.6](#exercise2.6)<br>\n",
    "* [Exercise 2.7](#exercise2.7)<br>\n",
    "* [Exercise 2.16](#exercise2.16)<br>\n",
    "* [Exercise 2.21](#exercise2.21)<br>"
   ]
  },
  {
   "cell_type": "markdown",
   "metadata": {},
   "source": [
    "### Exercise 2.4 <a class=\"anchor\" id=\"exercise2.4\"></a>"
   ]
  },
  {
   "cell_type": "markdown",
   "metadata": {},
   "source": [
    "Probability distribution"
   ]
  },
  {
   "cell_type": "code",
   "execution_count": 18,
   "metadata": {},
   "outputs": [
    {
     "data": {
      "text/plain": [
       "<BarContainer object of 11 artists>"
      ]
     },
     "execution_count": 18,
     "metadata": {},
     "output_type": "execute_result"
    },
    {
     "data": {
      "image/png": "[encoded data removed]",
      "text/plain": [
       "<Figure size 432x288 with 1 Axes>"
      ]
     },
     "metadata": {
      "needs_background": "light"
     },
     "output_type": "display_data"
    }
   ],
   "source": [
    "def prob_dist(N, k, b):   \n",
    "    probs = [binom.pmf(n, N, b/k) for n in range(N + 1)]\n",
    "    \n",
    "    return plt.bar(np.arange(0, N + 1, 1), probs)\n",
    "\n",
    "prob_dist(10, 10, 4)  "
   ]
  },
  {
   "cell_type": "markdown",
   "metadata": {},
   "source": [
    "Expectation"
   ]
  },
  {
   "cell_type": "code",
   "execution_count": 19,
   "metadata": {},
   "outputs": [],
   "source": [
    "def expectation(N, f):\n",
    "    probs = [x * f for x in range(0, N + 1)] \n",
    "    \n",
    "    return probs"
   ]
  },
  {
   "cell_type": "code",
   "execution_count": 20,
   "metadata": {},
   "outputs": [
    {
     "data": {
      "image/png": "[encoded data removed]",
      "text/plain": [
       "<Figure size 432x288 with 1 Axes>"
      ]
     },
     "metadata": {
      "needs_background": "light"
     },
     "output_type": "display_data"
    }
   ],
   "source": [
    "N = 5\n",
    "f = 0.2\n",
    "exp = expectation(N, f)\n",
    "\n",
    "plt.bar(np.arange(0, N + 1, 1), exp)\n",
    "plt.show()"
   ]
  },
  {
   "cell_type": "markdown",
   "metadata": {},
   "source": [
    "Variance and standard deviation"
   ]
  },
  {
   "cell_type": "code",
   "execution_count": 21,
   "metadata": {},
   "outputs": [
    {
     "name": "stdout",
     "output_type": "stream",
     "text": [
      "Variance is 0.8 and standard deviation is 0.8944271909999159\n"
     ]
    }
   ],
   "source": [
    "def var_std(N, f):\n",
    "    variance = expectation(N, f)[N] * (1 - f)\n",
    "    std = math.sqrt(variance)\n",
    "    \n",
    "    return print(\"Variance is\", variance, \"and standard deviation is\", std)\n",
    "\n",
    "var_std(5, 1/5)"
   ]
  },
  {
   "cell_type": "markdown",
   "metadata": {},
   "source": [
    "### Exercise 2.6 <a class=\"anchor\" id=\"exercise2.6\"></a>"
   ]
  },
  {
   "cell_type": "code",
   "execution_count": 22,
   "metadata": {},
   "outputs": [],
   "source": [
    "def urns(N, nb):\n",
    "    prob = []\n",
    "    res = []\n",
    "    for x in range(0, N + 1):\n",
    "        prob.append(binom.pmf(nb, N, x/10)) \n",
    "    for i in range(0, N + 1):   \n",
    "        res.append((binom.pmf(nb, N, i/10))/(sum(prob)))    \n",
    "    return res"
   ]
  },
  {
   "cell_type": "code",
   "execution_count": 23,
   "metadata": {},
   "outputs": [],
   "source": [
    "def probs_urns(N, nb):\n",
    "    for u in np.arange(0, N + 1):\n",
    "        print (\"Urn\", u , \"has probability\", urns(N, nb)[u])"
   ]
  },
  {
   "cell_type": "code",
   "execution_count": 24,
   "metadata": {},
   "outputs": [
    {
     "name": "stdout",
     "output_type": "stream",
     "text": [
      "Urn 0 has probability 0.0\n",
      "Urn 1 has probability 0.06307262464852743\n",
      "Urn 2 has probability 0.22123978796752994\n",
      "Urn 3 has probability 0.29321985989557936\n",
      "Urn 4 has probability 0.23625557435790415\n",
      "Urn 5 has probability 0.1287785055858141\n",
      "Urn 6 has probability 0.04666776777440084\n",
      "Urn 7 has probability 0.009892048584565574\n",
      "Urn 8 has probability 0.000864217921748162\n",
      "Urn 9 has probability 9.61326393057878e-06\n",
      "Urn 10 has probability 0.0\n"
     ]
    }
   ],
   "source": [
    "probs_urns(10, 3)"
   ]
  },
  {
   "cell_type": "code",
   "execution_count": 25,
   "metadata": {},
   "outputs": [
    {
     "data": {
      "image/png": "[encoded data removed]",
      "text/plain": [
       "<Figure size 432x288 with 1 Axes>"
      ]
     },
     "metadata": {
      "needs_background": "light"
     },
     "output_type": "display_data"
    }
   ],
   "source": [
    "probs = urns(10, 3)\n",
    "plt.bar(np.arange(0, 11), probs)\n",
    "plt.title(\"Probability distribution of urns\")\n",
    "plt.show()"
   ]
  },
  {
   "cell_type": "markdown",
   "metadata": {},
   "source": [
    "Probability of drawing a black ball in the nth + 1 draw"
   ]
  },
  {
   "cell_type": "code",
   "execution_count": 26,
   "metadata": {},
   "outputs": [
    {
     "name": "stdout",
     "output_type": "stream",
     "text": [
      "0.3330377815118737\n"
     ]
    }
   ],
   "source": [
    "prob = 0\n",
    "for u in range(11):\n",
    "    prob += u/10 * probs[u]\n",
    "print(prob)\n"
   ]
  },
  {
   "cell_type": "markdown",
   "metadata": {},
   "source": [
    "### Exercise 2.7 <a class=\"anchor\" id=\"exercise2.7\"></a>"
   ]
  },
  {
   "cell_type": "code",
   "execution_count": 27,
   "metadata": {},
   "outputs": [],
   "source": [
    "def prob_nh_given_fh_N(nh, N, fh):\n",
    "    \n",
    "    return binom.pmf(nh, N, fh)"
   ]
  },
  {
   "cell_type": "code",
   "execution_count": 28,
   "metadata": {},
   "outputs": [],
   "source": [
    "def priors(u):\n",
    "    if u == 1:\n",
    "        \n",
    "        return 1    \n",
    "    \n",
    "    else:\n",
    "        \n",
    "        return [4*x for x in np.arange(0, 0.5, 0.01)] + [-4*x + 4 for x in np.arange(0.5, 1, 0.01)]"
   ]
  },
  {
   "cell_type": "code",
   "execution_count": 29,
   "metadata": {},
   "outputs": [],
   "source": [
    "def prob_nh_given_N(nh, N, u):   \n",
    "    \n",
    "    return np.trapz([prob_nh_given_fh_N(nh, N, fh) for fh in np.arange(0, 1, 0.01)]*np.array(priors(u)), dx=0.01)"
   ]
  },
  {
   "cell_type": "code",
   "execution_count": 30,
   "metadata": {},
   "outputs": [],
   "source": [
    "def prob_fh_given_nh_N(nh, N, fh, u):\n",
    "    \n",
    "    return prob_nh_given_fh_N(nh, N, fh) / prob_nh_given_N(nh, N, u)"
   ]
  },
  {
   "cell_type": "markdown",
   "metadata": {},
   "source": [
    "a) N = 3; nh = 0"
   ]
  },
  {
   "cell_type": "markdown",
   "metadata": {},
   "source": [
    "    Uniform prior"
   ]
  },
  {
   "cell_type": "code",
   "execution_count": 31,
   "metadata": {},
   "outputs": [],
   "source": [
    "probs_0_3_U = ([prob_fh_given_nh_N(0, 3, fh, 1) for fh in np.arange(0, 1, 0.01)]) "
   ]
  },
  {
   "cell_type": "markdown",
   "metadata": {},
   "source": [
    "    Non-uniform prior"
   ]
  },
  {
   "cell_type": "code",
   "execution_count": 35,
   "metadata": {},
   "outputs": [
    {
     "data": {
      "image/png": "[encoded data removed]",
      "text/plain": [
       "<Figure size 432x288 with 1 Axes>"
      ]
     },
     "metadata": {
      "needs_background": "light"
     },
     "output_type": "display_data"
    }
   ],
   "source": [
    "plt.plot(np.arange(0, 1, 0.01), priors(0))\n",
    "plt.legend([\"Triangular prior\"])\n",
    "plt.show()"
   ]
  },
  {
   "cell_type": "code",
   "execution_count": 33,
   "metadata": {},
   "outputs": [],
   "source": [
    "probs_0_3_NU = np.array([prob_fh_given_nh_N(0, 3, fh, 0) for fh in np.arange(0, 1, 0.01)]) * np.array(priors(0)) "
   ]
  },
  {
   "cell_type": "markdown",
   "metadata": {},
   "source": [
    "Difference between uniform and non-uniform priors:"
   ]
  },
  {
   "cell_type": "code",
   "execution_count": 38,
   "metadata": {},
   "outputs": [
    {
     "data": {
      "image/png": "[encoded data removed]",
      "text/plain": [
       "<Figure size 432x288 with 1 Axes>"
      ]
     },
     "metadata": {
      "needs_background": "light"
     },
     "output_type": "display_data"
    }
   ],
   "source": [
    "plt.plot(np.arange(0, 1, 0.01), probs_0_3_U)\n",
    "plt.plot(np.arange(0, 1, 0.01), probs_0_3_NU)\n",
    "plt.legend([\"Uniform prior\", \"Non-uniform prior\"])\n",
    "plt.title(\"nh=0  N=3\")\n",
    "plt.show()"
   ]
  },
  {
   "cell_type": "markdown",
   "metadata": {},
   "source": [
    "Area under both curves:"
   ]
  },
  {
   "cell_type": "code",
   "execution_count": 39,
   "metadata": {},
   "outputs": [
    {
     "name": "stdout",
     "output_type": "stream",
     "text": [
      "Area under curve for uniform prior:  1.0\n",
      "Area under curve for non-uniform prior:  1.0\n"
     ]
    }
   ],
   "source": [
    "print(\"Area under curve for uniform prior: \", round(np.trapz(np.array(probs_0_3_U), dx=0.01)))\n",
    "print(\"Area under curve for non-uniform prior: \", round(np.trapz(np.array(probs_0_3_NU), dx=0.01)))"
   ]
  },
  {
   "cell_type": "markdown",
   "metadata": {},
   "source": [
    "Probability that the N + 1th outcome will be head:"
   ]
  },
  {
   "cell_type": "code",
   "execution_count": 40,
   "metadata": {},
   "outputs": [
    {
     "data": {
      "text/plain": [
       "0.1999466575331798"
      ]
     },
     "execution_count": 40,
     "metadata": {},
     "output_type": "execute_result"
    }
   ],
   "source": [
    "np.trapz(np.arange(0, 1, 0.01) * probs_0_3_U, dx=0.01)"
   ]
  },
  {
   "cell_type": "markdown",
   "metadata": {},
   "source": [
    "b) N=3; nh=2"
   ]
  },
  {
   "cell_type": "code",
   "execution_count": 41,
   "metadata": {},
   "outputs": [],
   "source": [
    "probs_2_3_U =[prob_fh_given_nh_N(2, 3, fh, 1) for fh in np.arange(0, 1, 0.01)] * np.array(priors(1)) "
   ]
  },
  {
   "cell_type": "code",
   "execution_count": 42,
   "metadata": {},
   "outputs": [],
   "source": [
    "probs_2_3_NU = np.array([prob_fh_given_nh_N(2, 3, fh, 0) for fh in np.arange(0, 1, 0.01)]) * np.array(priors(0)) "
   ]
  },
  {
   "cell_type": "code",
   "execution_count": 45,
   "metadata": {},
   "outputs": [
    {
     "data": {
      "image/png": "[encoded data removed]",
      "text/plain": [
       "<Figure size 432x288 with 1 Axes>"
      ]
     },
     "metadata": {
      "needs_background": "light"
     },
     "output_type": "display_data"
    }
   ],
   "source": [
    "plt.plot(np.arange(0, 1, 0.01), probs_2_3_U)\n",
    "plt.plot(np.arange(0, 1, 0.01), probs_2_3_NU)\n",
    "plt.legend([\"Uniform prior\", \"Non-uniform prior\"])\n",
    "plt.title(\"nh=2  N=3\")\n",
    "plt.show()"
   ]
  },
  {
   "cell_type": "code",
   "execution_count": 46,
   "metadata": {},
   "outputs": [
    {
     "name": "stdout",
     "output_type": "stream",
     "text": [
      "Area under curve for uniform prior:  1.0\n",
      "Area under curve for non-uniform prior:  1.0\n"
     ]
    }
   ],
   "source": [
    "print(\"Area under curve for uniform prior: \", round(np.trapz(np.array(probs_2_3_U), dx=0.01)))\n",
    "print(\"Area under curve for non-uniform prior: \", round(np.trapz(np.array(probs_2_3_NU), dx=0.01)))"
   ]
  },
  {
   "cell_type": "markdown",
   "metadata": {},
   "source": [
    "Probability that the N + 1th outcome will be head:"
   ]
  },
  {
   "cell_type": "code",
   "execution_count": 47,
   "metadata": {},
   "outputs": [
    {
     "data": {
      "text/plain": [
       "0.5997304751507321"
      ]
     },
     "execution_count": 47,
     "metadata": {},
     "output_type": "execute_result"
    }
   ],
   "source": [
    "np.trapz(np.arange(0, 1, 0.01) * probs_2_3_U, dx=0.01)"
   ]
  },
  {
   "cell_type": "markdown",
   "metadata": {},
   "source": [
    "c) N=10; nh=3"
   ]
  },
  {
   "cell_type": "code",
   "execution_count": 48,
   "metadata": {},
   "outputs": [],
   "source": [
    "probs_3_10_U =[prob_fh_given_nh_N(3, 10, fh, 1) for fh in np.arange(0, 1, 0.01)] * np.array(priors(1)) "
   ]
  },
  {
   "cell_type": "code",
   "execution_count": 49,
   "metadata": {},
   "outputs": [],
   "source": [
    "probs_3_10_NU = np.array([prob_fh_given_nh_N(3, 10, fh, 0) for fh in np.arange(0, 1, 0.01)]) * np.array(priors(0)) "
   ]
  },
  {
   "cell_type": "code",
   "execution_count": 53,
   "metadata": {},
   "outputs": [
    {
     "data": {
      "image/png": "[encoded data removed]",
      "text/plain": [
       "<Figure size 432x288 with 1 Axes>"
      ]
     },
     "metadata": {
      "needs_background": "light"
     },
     "output_type": "display_data"
    }
   ],
   "source": [
    "plt.plot(np.arange(0, 1, 0.01), probs_3_10_U)\n",
    "plt.plot(np.arange(0, 1, 0.01), probs_3_10_NU)\n",
    "plt.legend([\"Uniform prior\", \"Non-uniform prior\"])\n",
    "plt.title(\"nh=3  N=10\")\n",
    "plt.show()"
   ]
  },
  {
   "cell_type": "code",
   "execution_count": 54,
   "metadata": {},
   "outputs": [
    {
     "name": "stdout",
     "output_type": "stream",
     "text": [
      "Area under curve for uniform prior:  1.0\n",
      "Area under curve for non-uniform prior:  1.0\n"
     ]
    }
   ],
   "source": [
    "print(\"Area under curve for uniform prior: \", round(np.trapz(np.array(probs_3_10_U), dx=0.01)))\n",
    "print(\"Area under curve for non-uniform prior: \", round(np.trapz(np.array(probs_3_10_NU), dx=0.01)))"
   ]
  },
  {
   "cell_type": "markdown",
   "metadata": {},
   "source": [
    "Probability that the N + 1th outcome will be head:"
   ]
  },
  {
   "cell_type": "code",
   "execution_count": 55,
   "metadata": {},
   "outputs": [
    {
     "data": {
      "text/plain": [
       "0.3333332967399367"
      ]
     },
     "execution_count": 55,
     "metadata": {},
     "output_type": "execute_result"
    }
   ],
   "source": [
    "np.trapz(np.arange(0, 1, 0.01) * probs_3_10_U, dx=0.01)"
   ]
  },
  {
   "cell_type": "markdown",
   "metadata": {},
   "source": [
    "\n",
    "d) N=300; nh=29"
   ]
  },
  {
   "cell_type": "code",
   "execution_count": 56,
   "metadata": {},
   "outputs": [],
   "source": [
    "probs_29_300_U =[prob_fh_given_nh_N(29, 300, fh, 1) for fh in np.arange(0, 1, 0.01)] * np.array(priors(1)) "
   ]
  },
  {
   "cell_type": "code",
   "execution_count": 57,
   "metadata": {},
   "outputs": [],
   "source": [
    "probs_29_300_NU = np.array([prob_fh_given_nh_N(29, 300, fh, 0) for fh in np.arange(0, 1, 0.01)]) * np.array(priors(0)) "
   ]
  },
  {
   "cell_type": "code",
   "execution_count": 58,
   "metadata": {},
   "outputs": [
    {
     "data": {
      "image/png": "[encoded data removed]",
      "text/plain": [
       "<Figure size 432x288 with 1 Axes>"
      ]
     },
     "metadata": {
      "needs_background": "light"
     },
     "output_type": "display_data"
    }
   ],
   "source": [
    "plt.plot(np.arange(0, 1, 0.01), probs_29_300_U)\n",
    "plt.plot(np.arange(0, 1, 0.01), probs_29_300_NU)\n",
    "plt.legend([\"Uniform prior\", \"Non-uniform prior\"])\n",
    "plt.title(\"nh=29  N=300\")\n",
    "plt.show()"
   ]
  },
  {
   "cell_type": "code",
   "execution_count": 59,
   "metadata": {},
   "outputs": [
    {
     "name": "stdout",
     "output_type": "stream",
     "text": [
      "Area under curve for uniform prior:  1.0\n",
      "Area under curve for non-uniform prior:  1.0\n"
     ]
    }
   ],
   "source": [
    "print(\"Area under curve for uniform prior: \", round(np.trapz(np.array(probs_29_300_U), dx=0.01)))\n",
    "print(\"Area under curve for non-uniform prior: \", round(np.trapz(np.array(probs_29_300_NU), dx=0.01)))"
   ]
  },
  {
   "cell_type": "markdown",
   "metadata": {},
   "source": [
    "Probability that the N + 1th outcome will be head:"
   ]
  },
  {
   "cell_type": "code",
   "execution_count": 60,
   "metadata": {},
   "outputs": [
    {
     "data": {
      "text/plain": [
       "0.09933774834530912"
      ]
     },
     "execution_count": 60,
     "metadata": {},
     "output_type": "execute_result"
    }
   ],
   "source": [
    "np.trapz(np.arange(0, 1, 0.01) * probs_29_300_U, dx=0.01)"
   ]
  },
  {
   "cell_type": "markdown",
   "metadata": {},
   "source": [
    "### Exercise 2.16 <a class=\"anchor\" id=\"exercise2.16\"></a>"
   ]
  },
  {
   "cell_type": "markdown",
   "metadata": {},
   "source": [
    "Probability distribution of the sum"
   ]
  },
  {
   "cell_type": "code",
   "execution_count": 61,
   "metadata": {},
   "outputs": [],
   "source": [
    "def dice(faces):\n",
    "    \n",
    "    return np.random.choice(np.arange(1, faces + 1))"
   ]
  },
  {
   "cell_type": "code",
   "execution_count": 62,
   "metadata": {},
   "outputs": [
    {
     "data": {
      "image/png": "[encoded data removed]",
      "text/plain": [
       "<Figure size 432x288 with 1 Axes>"
      ]
     },
     "metadata": {
      "needs_background": "light"
     },
     "output_type": "display_data"
    }
   ],
   "source": [
    "faces = 6\n",
    "trials = 5000\n",
    "trials_dice = [dice(faces) + dice(faces) for x in range(trials)]\n",
    "\n",
    "plt.hist(trials_dice, width=0.8)\n",
    "plt.show()"
   ]
  },
  {
   "cell_type": "markdown",
   "metadata": {},
   "source": [
    "Probability distribution of the absolute difference"
   ]
  },
  {
   "cell_type": "code",
   "execution_count": 63,
   "metadata": {},
   "outputs": [
    {
     "data": {
      "image/png": "[encoded data removed]",
      "text/plain": [
       "<Figure size 432x288 with 1 Axes>"
      ]
     },
     "metadata": {
      "needs_background": "light"
     },
     "output_type": "display_data"
    }
   ],
   "source": [
    "faces = 6\n",
    "trials = 5000\n",
    "trials_dice = [abs(dice(faces) - dice(faces)) for x in range(trials)]\n",
    "\n",
    "plt.hist(trials_dice, width=0.6)\n",
    "plt.show()"
   ]
  },
  {
   "cell_type": "markdown",
   "metadata": {},
   "source": [
    "Probability distribution of 100 roll dice"
   ]
  },
  {
   "cell_type": "code",
   "execution_count": 64,
   "metadata": {},
   "outputs": [
    {
     "data": {
      "image/png": "[encoded data removed]",
      "text/plain": [
       "<Figure size 432x288 with 1 Axes>"
      ]
     },
     "metadata": {
      "needs_background": "light"
     },
     "output_type": "display_data"
    }
   ],
   "source": [
    "faces = 6\n",
    "trials = 1000\n",
    "trials_dice = [np.sum([dice(faces) for i in range(100)]) for j in range(trials)]\n",
    "\n",
    "plt.hist(trials_dice, bins=30)\n",
    "plt.show()"
   ]
  }
 ],
 "metadata": {
  "kernelspec": {
   "display_name": "Python 3",
   "language": "python",
   "name": "python3"
  },
  "language_info": {
   "codemirror_mode": {
    "name": "ipython",
    "version": 3
   },
   "file_extension": ".py",
   "mimetype": "text/x-python",
   "name": "python",
   "nbconvert_exporter": "python",
   "pygments_lexer": "ipython3",
   "version": "3.7.3"
  }
 },
 "nbformat": 4,
 "nbformat_minor": 2
}
